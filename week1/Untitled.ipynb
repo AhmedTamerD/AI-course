{
 "cells": [
  {
   "cell_type": "code",
   "execution_count": 3,
   "id": "3fadd0bc",
   "metadata": {},
   "outputs": [
    {
     "name": "stdout",
     "output_type": "stream",
     "text": [
      "Enter a year : 2015\n",
      "not a leap yearr\n"
     ]
    }
   ],
   "source": [
    "x=int(input(\"Enter a year : \"))\n",
    "if x%4==0:\n",
    "    print(\"leap year!!!\")\n",
    "else:\n",
    "    print(\"not a leap yearr\")\n"
   ]
  },
  {
   "cell_type": "code",
   "execution_count": 2,
   "id": "3049b707",
   "metadata": {},
   "outputs": [
    {
     "name": "stdout",
     "output_type": "stream",
     "text": [
      "Enter age of first person : 12\n",
      "Enter age of second person: 44\n",
      "Enter age of third person: 32\n",
      "the oldest person's age is 44\n",
      "and the youngest person's age is  12\n"
     ]
    }
   ],
   "source": [
    "x1=int(input(\"Enter age of first person : \"))\n",
    "x2=int(input(\"Enter age of second person: \"))\n",
    "x3=int(input(\"Enter age of third person: \"))\n",
    "max=0\n",
    "min=0\n",
    "if x1>x2 and x1>x3:\n",
    "    max=x1\n",
    "if x2>x1 and x2>x3:\n",
    "    max=x2\n",
    "if x3>x2 and x1<x3:\n",
    "    max=x3\n",
    "if x1<x2 and x1<x3:\n",
    "    min=x1\n",
    "if x2<x1 and x2<x3:\n",
    "    min=x2\n",
    "if x3<x2 and x1>x3:\n",
    "    min=x3\n",
    "print(\"the oldest person's age is\",max)\n",
    "print(\"and the youngest person's age is\",min)"
   ]
  },
  {
   "cell_type": "code",
   "execution_count": null,
   "id": "2bd10161",
   "metadata": {},
   "outputs": [],
   "source": []
  }
 ],
 "metadata": {
  "kernelspec": {
   "display_name": "Python 3",
   "language": "python",
   "name": "python3"
  },
  "language_info": {
   "codemirror_mode": {
    "name": "ipython",
    "version": 3
   },
   "file_extension": ".py",
   "mimetype": "text/x-python",
   "name": "python",
   "nbconvert_exporter": "python",
   "pygments_lexer": "ipython3",
   "version": "3.8.8"
  }
 },
 "nbformat": 4,
 "nbformat_minor": 5
}
