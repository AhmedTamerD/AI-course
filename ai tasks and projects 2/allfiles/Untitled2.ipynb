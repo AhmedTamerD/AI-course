{
 "cells": [
  {
   "cell_type": "code",
   "execution_count": 2,
   "id": "a32456c7",
   "metadata": {},
   "outputs": [
    {
     "name": "stdout",
     "output_type": "stream",
     "text": [
      "Collecting opencv-python\n",
      "  Downloading opencv_python-4.8.0.76-cp37-abi3-win_amd64.whl (38.1 MB)\n",
      "Requirement already satisfied: numpy>=1.17.0 in c:\\users\\ahmed\\anaconda3\\lib\\site-packages (from opencv-python) (1.20.1)\n",
      "Installing collected packages: opencv-python\n",
      "Successfully installed opencv-python-4.8.0.76\n",
      "Note: you may need to restart the kernel to use updated packages.\n"
     ]
    }
   ],
   "source": [
    "pip install opencv-python\n"
   ]
  },
  {
   "cell_type": "code",
   "execution_count": 7,
   "id": "b7eee2fc",
   "metadata": {},
   "outputs": [
    {
     "data": {
      "text/plain": [
       "numpy.ndarray"
      ]
     },
     "execution_count": 7,
     "metadata": {},
     "output_type": "execute_result"
    }
   ],
   "source": [
    "import cv2 as cv\n",
    "img = cv.imread('pic.jpg')\n",
    "type(img)"
   ]
  },
  {
   "cell_type": "code",
   "execution_count": 8,
   "id": "fb7db0bc",
   "metadata": {},
   "outputs": [
    {
     "data": {
      "text/plain": [
       "array([[[  8,   3,   2],\n",
       "        [ 11,   6,   5],\n",
       "        [ 12,   5,   2],\n",
       "        ...,\n",
       "        [177, 123,   0],\n",
       "        [178, 124,   0],\n",
       "        [178, 124,   0]],\n",
       "\n",
       "       [[ 10,   5,   4],\n",
       "        [  9,   4,   3],\n",
       "        [  9,   2,   0],\n",
       "        ...,\n",
       "        [178, 124,   0],\n",
       "        [178, 124,   0],\n",
       "        [178, 124,   0]],\n",
       "\n",
       "       [[  8,   3,   0],\n",
       "        [  7,   2,   0],\n",
       "        [  9,   1,   1],\n",
       "        ...,\n",
       "        [178, 124,   0],\n",
       "        [178, 124,   0],\n",
       "        [179, 125,   1]],\n",
       "\n",
       "       ...,\n",
       "\n",
       "       [[ 45,  36,   0],\n",
       "        [ 46,  37,   0],\n",
       "        [ 46,  36,   2],\n",
       "        ...,\n",
       "        [187, 176, 154],\n",
       "        [189, 178, 158],\n",
       "        [190, 179, 159]],\n",
       "\n",
       "       [[ 45,  36,   0],\n",
       "        [ 46,  37,   0],\n",
       "        [ 46,  36,   2],\n",
       "        ...,\n",
       "        [187, 174, 152],\n",
       "        [188, 177, 155],\n",
       "        [190, 179, 157]],\n",
       "\n",
       "       [[ 47,  38,   1],\n",
       "        [ 48,  39,   2],\n",
       "        [ 47,  37,   3],\n",
       "        ...,\n",
       "        [186, 173, 151],\n",
       "        [187, 176, 154],\n",
       "        [189, 178, 156]]], dtype=uint8)"
      ]
     },
     "execution_count": 8,
     "metadata": {},
     "output_type": "execute_result"
    }
   ],
   "source": [
    "img"
   ]
  },
  {
   "cell_type": "code",
   "execution_count": 9,
   "id": "8de9cb8a",
   "metadata": {},
   "outputs": [
    {
     "data": {
      "text/plain": [
       "(1080, 1920, 3)"
      ]
     },
     "execution_count": 9,
     "metadata": {},
     "output_type": "execute_result"
    }
   ],
   "source": [
    "img.shape\n"
   ]
  },
  {
   "cell_type": "code",
   "execution_count": 18,
   "id": "92e78cba",
   "metadata": {},
   "outputs": [
    {
     "data": {
      "text/plain": [
       "-1"
      ]
     },
     "execution_count": 18,
     "metadata": {},
     "output_type": "execute_result"
    }
   ],
   "source": [
    "cv.imshow(\"new image\",img)\n",
    "cv.waitKey()"
   ]
  },
  {
   "cell_type": "code",
   "execution_count": 15,
   "id": "b1cf34a9",
   "metadata": {},
   "outputs": [],
   "source": [
    "im=cv.imread(\"img\")"
   ]
  },
  {
   "cell_type": "code",
   "execution_count": 16,
   "id": "a698d8f3",
   "metadata": {},
   "outputs": [
    {
     "name": "stdout",
     "output_type": "stream",
     "text": [
      "None\n"
     ]
    }
   ],
   "source": [
    "print(im)"
   ]
  },
  {
   "cell_type": "code",
   "execution_count": 24,
   "id": "52de4541",
   "metadata": {},
   "outputs": [
    {
     "data": {
      "text/plain": [
       "-1"
      ]
     },
     "execution_count": 24,
     "metadata": {},
     "output_type": "execute_result"
    }
   ],
   "source": [
    "blur = cv.GaussianBlur(img, (1,1), cv.BORDER_DEFAULT)\n",
    "cv.imshow(\"blur\",blur)\n",
    "cv.waitKey()"
   ]
  },
  {
   "cell_type": "code",
   "execution_count": 26,
   "id": "74091fcd",
   "metadata": {},
   "outputs": [
    {
     "data": {
      "text/plain": [
       "-1"
      ]
     },
     "execution_count": 26,
     "metadata": {},
     "output_type": "execute_result"
    }
   ],
   "source": [
    "canny = cv.Canny(blur, 125, 175)\n",
    "cv.imshow(\"canny\",canny)\n",
    "cv.waitKey()"
   ]
  },
  {
   "cell_type": "code",
   "execution_count": null,
   "id": "52a0c441",
   "metadata": {},
   "outputs": [],
   "source": []
  }
 ],
 "metadata": {
  "kernelspec": {
   "display_name": "Python 3",
   "language": "python",
   "name": "python3"
  },
  "language_info": {
   "codemirror_mode": {
    "name": "ipython",
    "version": 3
   },
   "file_extension": ".py",
   "mimetype": "text/x-python",
   "name": "python",
   "nbconvert_exporter": "python",
   "pygments_lexer": "ipython3",
   "version": "3.8.8"
  }
 },
 "nbformat": 4,
 "nbformat_minor": 5
}
