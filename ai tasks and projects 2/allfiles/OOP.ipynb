{
 "cells": [
  {
   "cell_type": "code",
   "execution_count": null,
   "id": "24518310",
   "metadata": {},
   "outputs": [],
   "source": [
    "#edit\n",
    "#reuse\n",
    "#organize\n",
    "#secure?control access\n",
    "#\n",
    "\n",
    "\n",
    "# not built on oop --> c++,python,c,js,php\n",
    "# built on oop--> java ,c#"
   ]
  },
  {
   "cell_type": "code",
   "execution_count": 2,
   "id": "bc1a6edc",
   "metadata": {},
   "outputs": [],
   "source": [
    "def printdata():\n",
    "    list1=[\"ziad\",\"anas\",\"ahmed\",\"ali\",\"emad\"]\n",
    "    list1.sort()\n",
    "    for i in list1:\n",
    "        if i==\"ali\":\n",
    "            print(\"we found ali\")\n",
    "        if i==\"ahmed\":\n",
    "            list1.append(\"amr\")  ##appendd \n",
    "    for i in list1:\n",
    "        print(i)"
   ]
  },
  {
   "cell_type": "code",
   "execution_count": 2,
   "id": "16d23d4c",
   "metadata": {
    "scrolled": true
   },
   "outputs": [
    {
     "name": "stdout",
     "output_type": "stream",
     "text": [
      "we found ali\n",
      "ahmed\n",
      "ali\n",
      "anas\n",
      "emad\n",
      "ziad\n",
      "amr\n"
     ]
    }
   ],
   "source": [
    "printdata()"
   ]
  },
  {
   "cell_type": "code",
   "execution_count": 3,
   "id": "8bb52f8a",
   "metadata": {},
   "outputs": [],
   "source": [
    "def intializelist():\n",
    "    list1=[\"ahmed\",\"mohamed\",\"ali\",\"amr\",\"hossam\"]\n",
    "    return list1"
   ]
  },
  {
   "cell_type": "code",
   "execution_count": 4,
   "id": "05bb5131",
   "metadata": {},
   "outputs": [],
   "source": [
    "def searchAli():\n",
    "    for i in list1:\n",
    "        if i==\"ali\":\n",
    "            print(\"we found ali\")"
   ]
  },
  {
   "cell_type": "code",
   "execution_count": 5,
   "id": "a684e3e4",
   "metadata": {},
   "outputs": [],
   "source": [
    "def addnewelement(element):\n",
    "    for i in list1:\n",
    "        if i==\"ahmed\":\n",
    "            list1.append(element)"
   ]
  },
  {
   "cell_type": "code",
   "execution_count": 6,
   "id": "b7db71a8",
   "metadata": {},
   "outputs": [],
   "source": [
    "def printFinal(element):\n",
    "    for i in list1:\n",
    "        print(i)"
   ]
  },
  {
   "cell_type": "code",
   "execution_count": 7,
   "id": "0608b6fb",
   "metadata": {},
   "outputs": [
    {
     "name": "stdout",
     "output_type": "stream",
     "text": [
      "['ahmed', 'mohamed', 'ali', 'amr', 'hossam']\n"
     ]
    }
   ],
   "source": [
    "list1=intializelist()\n",
    "print(list1)"
   ]
  },
  {
   "cell_type": "code",
   "execution_count": null,
   "id": "a3f70056",
   "metadata": {},
   "outputs": [],
   "source": [
    "int maxx(int n1,int n2)\n",
    "float maxx(int n1,int n2) --> signature of func --> DT ,Parameter\n",
    "maxx(1,2)\n",
    "int n=max(1,2)"
   ]
  },
  {
   "cell_type": "code",
   "execution_count": null,
   "id": "b8f1839c",
   "metadata": {},
   "outputs": [],
   "source": [
    "# Emp job title\n",
    "# Department\n",
    "# birthdate\n",
    "# phone number\n",
    "# salary\n",
    "# shift time\n",
    "# vacations\n",
    "####\n",
    "#methods\n",
    "# function:changeDepartment()\n",
    "# function:promote()\n",
    "#function:changeshift()\n",
    "#function:calculateVecation()\n",
    "#function:askforpromotion\n",
    "#function:addnewphone()"
   ]
  },
  {
   "cell_type": "code",
   "execution_count": 3,
   "id": "a92411b5",
   "metadata": {},
   "outputs": [],
   "source": [
    "class Employee:\n",
    "    Name=\" \"\n",
    "    Salary=\" \"\n",
    "    phonenumber=\" \"\n",
    "    def changephone(self):\n",
    "        self.phonenumber=\"0101233484\""
   ]
  },
  {
   "cell_type": "code",
   "execution_count": 5,
   "id": "8f6b4f7b",
   "metadata": {},
   "outputs": [],
   "source": [
    "emp1=Employee()"
   ]
  },
  {
   "cell_type": "code",
   "execution_count": 7,
   "id": "5a8662b6",
   "metadata": {},
   "outputs": [],
   "source": [
    "emp1.Name=\"anas\"\n",
    "emp1.Salary=3000\n",
    "emp1.phonenumber=\"011556667788\"\n",
    "emp1.changephone()\n",
    "\n"
   ]
  },
  {
   "cell_type": "markdown",
   "id": "671782c9",
   "metadata": {},
   "source": [
    "emp1.changephone()"
   ]
  },
  {
   "cell_type": "code",
   "execution_count": 8,
   "id": "bc64313c",
   "metadata": {},
   "outputs": [
    {
     "data": {
      "text/plain": [
       "'0101233484'"
      ]
     },
     "execution_count": 8,
     "metadata": {},
     "output_type": "execute_result"
    }
   ],
   "source": [
    "emp1.phonenumber"
   ]
  },
  {
   "cell_type": "code",
   "execution_count": null,
   "id": "8a6ddc94",
   "metadata": {},
   "outputs": [],
   "source": []
  },
  {
   "cell_type": "code",
   "execution_count": 11,
   "id": "452852be",
   "metadata": {},
   "outputs": [],
   "source": [
    "l=[]\n",
    "def creatNemployees():\n",
    "    x=int(input(\"plz enter how many emp you want\"))\n",
    "    for i in range(x):\n",
    "        newemp=Employee()\n",
    "        newemp.Name=input(\"plz enter emp name\")\n",
    "        l.append(newemp)"
   ]
  },
  {
   "cell_type": "code",
   "execution_count": 14,
   "id": "ce1ddfd0",
   "metadata": {},
   "outputs": [
    {
     "name": "stdout",
     "output_type": "stream",
     "text": [
      "plz enter how many emp you want3\n",
      "plz enter emp nameanas\n",
      "plz enter emp nameemad\n",
      "plz enter emp nameali\n"
     ]
    }
   ],
   "source": [
    "obj=creatNemployees()\n"
   ]
  },
  {
   "cell_type": "code",
   "execution_count": 17,
   "id": "cc23ecee",
   "metadata": {},
   "outputs": [],
   "source": [
    "class Human:\n",
    "    Name=\" \"\n",
    "    Age=\" \"\n",
    "    height=\" \"\n",
    "    def eat(self):\n",
    "        print(\"I'm \"+self.Name+\"and i'm eating\")\n",
    "    def printAge(self):\n",
    "        print(\"I'm \"+str(self.Age)+\"years old\")"
   ]
  },
  {
   "cell_type": "code",
   "execution_count": 18,
   "id": "0cf8c559",
   "metadata": {},
   "outputs": [
    {
     "data": {
      "text/plain": [
       "__main__.Human"
      ]
     },
     "execution_count": 18,
     "metadata": {},
     "output_type": "execute_result"
    }
   ],
   "source": [
    "anas=Human()\n",
    "type(anas)"
   ]
  },
  {
   "cell_type": "code",
   "execution_count": 19,
   "id": "5a94debe",
   "metadata": {},
   "outputs": [],
   "source": [
    "anas.Name=\"anas emad\"  # name--> attribute ,\"anas emad\"-->value\n",
    "anas.Age=23\n",
    "anas.height=165"
   ]
  },
  {
   "cell_type": "code",
   "execution_count": 20,
   "id": "8de9e63d",
   "metadata": {},
   "outputs": [
    {
     "name": "stdout",
     "output_type": "stream",
     "text": [
      "I'm anas emadand i'm eating\n"
     ]
    }
   ],
   "source": [
    "anas.eat()"
   ]
  },
  {
   "cell_type": "code",
   "execution_count": 36,
   "id": "daf20d35",
   "metadata": {
    "scrolled": true
   },
   "outputs": [
    {
     "name": "stdout",
     "output_type": "stream",
     "text": [
      "I'm 23years old\n"
     ]
    }
   ],
   "source": [
    "anas.printAge()"
   ]
  },
  {
   "cell_type": "code",
   "execution_count": 21,
   "id": "93bc1ffe",
   "metadata": {},
   "outputs": [],
   "source": [
    "obj2=Human()"
   ]
  },
  {
   "cell_type": "code",
   "execution_count": 22,
   "id": "c7b41c06",
   "metadata": {},
   "outputs": [],
   "source": [
    "obj2.Name=\"ali\"\n",
    "obj2.Age=20\n",
    "obj2.height=180"
   ]
  },
  {
   "cell_type": "code",
   "execution_count": 23,
   "id": "a1c5eb55",
   "metadata": {},
   "outputs": [
    {
     "name": "stdout",
     "output_type": "stream",
     "text": [
      "I'm aliand i'm eating\n"
     ]
    }
   ],
   "source": [
    "obj2.eat()"
   ]
  },
  {
   "cell_type": "code",
   "execution_count": 24,
   "id": "7c05ba6e",
   "metadata": {},
   "outputs": [
    {
     "name": "stdout",
     "output_type": "stream",
     "text": [
      "I'm 20years old\n"
     ]
    }
   ],
   "source": [
    "obj2.printAge() "
   ]
  },
  {
   "cell_type": "code",
   "execution_count": 25,
   "id": "f898c13a",
   "metadata": {},
   "outputs": [],
   "source": [
    "class BankAccount:\n",
    "    def __init__(self):\n",
    "        Name=input(\"plz enter Ur Name\")\n",
    "        Password=input(\"plz enter Ur password\")\n",
    "        Credit=0\n",
    "    def addCredit(self):\n",
    "        newamount=float(input(\"plz emter how much money you add\"))\n",
    "        self.Credit+=newamount\n",
    "        "
   ]
  },
  {
   "cell_type": "code",
   "execution_count": 26,
   "id": "f98b3855",
   "metadata": {},
   "outputs": [
    {
     "name": "stdout",
     "output_type": "stream",
     "text": [
      "plz enter Ur Nameahmed\n",
      "plz enter Ur password123\n"
     ]
    }
   ],
   "source": [
    "newAccount=BankAccount()"
   ]
  },
  {
   "cell_type": "code",
   "execution_count": 27,
   "id": "f906e60a",
   "metadata": {},
   "outputs": [
    {
     "name": "stdout",
     "output_type": "stream",
     "text": [
      "plz emter how much money you add20000\n"
     ]
    },
    {
     "ename": "AttributeError",
     "evalue": "'BankAccount' object has no attribute 'Credit'",
     "output_type": "error",
     "traceback": [
      "\u001b[1;31m---------------------------------------------------------------------------\u001b[0m",
      "\u001b[1;31mAttributeError\u001b[0m                            Traceback (most recent call last)",
      "\u001b[1;32m~\\AppData\\Local\\Temp\\ipykernel_15424\\3506385157.py\u001b[0m in \u001b[0;36m<module>\u001b[1;34m\u001b[0m\n\u001b[1;32m----> 1\u001b[1;33m \u001b[0mnewAccount\u001b[0m\u001b[1;33m.\u001b[0m\u001b[0maddCredit\u001b[0m\u001b[1;33m(\u001b[0m\u001b[1;33m)\u001b[0m\u001b[1;33m\u001b[0m\u001b[1;33m\u001b[0m\u001b[0m\n\u001b[0m",
      "\u001b[1;32m~\\AppData\\Local\\Temp\\ipykernel_15424\\477893562.py\u001b[0m in \u001b[0;36maddCredit\u001b[1;34m(self)\u001b[0m\n\u001b[0;32m      6\u001b[0m     \u001b[1;32mdef\u001b[0m \u001b[0maddCredit\u001b[0m\u001b[1;33m(\u001b[0m\u001b[0mself\u001b[0m\u001b[1;33m)\u001b[0m\u001b[1;33m:\u001b[0m\u001b[1;33m\u001b[0m\u001b[1;33m\u001b[0m\u001b[0m\n\u001b[0;32m      7\u001b[0m         \u001b[0mnewamount\u001b[0m\u001b[1;33m=\u001b[0m\u001b[0mfloat\u001b[0m\u001b[1;33m(\u001b[0m\u001b[0minput\u001b[0m\u001b[1;33m(\u001b[0m\u001b[1;34m\"plz emter how much money you add\"\u001b[0m\u001b[1;33m)\u001b[0m\u001b[1;33m)\u001b[0m\u001b[1;33m\u001b[0m\u001b[1;33m\u001b[0m\u001b[0m\n\u001b[1;32m----> 8\u001b[1;33m         \u001b[0mself\u001b[0m\u001b[1;33m.\u001b[0m\u001b[0mCredit\u001b[0m\u001b[1;33m+=\u001b[0m\u001b[0mnewamount\u001b[0m\u001b[1;33m\u001b[0m\u001b[1;33m\u001b[0m\u001b[0m\n\u001b[0m\u001b[0;32m      9\u001b[0m \u001b[1;33m\u001b[0m\u001b[0m\n",
      "\u001b[1;31mAttributeError\u001b[0m: 'BankAccount' object has no attribute 'Credit'"
     ]
    }
   ],
   "source": [
    "newAccount.addCredit()"
   ]
  },
  {
   "cell_type": "code",
   "execution_count": null,
   "id": "cf2e2c9f",
   "metadata": {},
   "outputs": [],
   "source": []
  },
  {
   "cell_type": "code",
   "execution_count": 28,
   "id": "d3913bba",
   "metadata": {},
   "outputs": [],
   "source": [
    "class BankAccount:\n",
    "    def __init__(self):\n",
    "        self.Name=input(\"plz enter Ur Name\")\n",
    "        self.Password=input(\"plz enter Ur password\")\n",
    "        self.Credit=0\n",
    "    def addCredit(self):\n",
    "        newamount=float(input(\"plz emter how much money you add\"))\n",
    "        self.Credit+=newamount\n",
    "    def showCredit(self):\n",
    "        checkPass=input(\"plz enter Ur password\")\n",
    "        if(checkPass==self.Password):\n",
    "            print(self.Credit)\n",
    "        "
   ]
  },
  {
   "cell_type": "code",
   "execution_count": 29,
   "id": "48a17ebb",
   "metadata": {},
   "outputs": [
    {
     "name": "stdout",
     "output_type": "stream",
     "text": [
      "plz enter Ur Nameahmed\n",
      "plz enter Ur password123\n"
     ]
    }
   ],
   "source": [
    "new=BankAccount()"
   ]
  },
  {
   "cell_type": "code",
   "execution_count": 30,
   "id": "af73ff10",
   "metadata": {},
   "outputs": [
    {
     "name": "stdout",
     "output_type": "stream",
     "text": [
      "plz emter how much money you add20000\n"
     ]
    }
   ],
   "source": [
    "new.addCredit()"
   ]
  },
  {
   "cell_type": "code",
   "execution_count": 31,
   "id": "a79e84db",
   "metadata": {},
   "outputs": [
    {
     "name": "stdout",
     "output_type": "stream",
     "text": [
      "plz enter Ur password123\n",
      "20000.0\n"
     ]
    }
   ],
   "source": [
    "new.showCredit()"
   ]
  },
  {
   "cell_type": "code",
   "execution_count": 32,
   "id": "adf6e953",
   "metadata": {},
   "outputs": [
    {
     "data": {
      "text/plain": [
       "'123'"
      ]
     },
     "execution_count": 32,
     "metadata": {},
     "output_type": "execute_result"
    }
   ],
   "source": [
    "new.Password #--> modifier  __"
   ]
  },
  {
   "cell_type": "code",
   "execution_count": 48,
   "id": "3b59b19f",
   "metadata": {},
   "outputs": [],
   "source": [
    "f = open(\"student.txt\",'w')\n"
   ]
  },
  {
   "cell_type": "code",
   "execution_count": 49,
   "id": "ad37e074",
   "metadata": {},
   "outputs": [
    {
     "data": {
      "text/plain": [
       "10"
      ]
     },
     "execution_count": 49,
     "metadata": {},
     "output_type": "execute_result"
    }
   ],
   "source": [
    "f.write('this is the best file handling session.\\n')\n",
    "f.write('we are the best.\\n')\n",
    "f.write('Ai Session')"
   ]
  },
  {
   "cell_type": "code",
   "execution_count": 51,
   "id": "4d8a7710",
   "metadata": {},
   "outputs": [],
   "source": [
    "f.close()"
   ]
  },
  {
   "cell_type": "code",
   "execution_count": 52,
   "id": "a8c270fc",
   "metadata": {},
   "outputs": [
    {
     "name": "stdout",
     "output_type": "stream",
     "text": [
      "this is the best file handling session.\n",
      "\n",
      "we are the best.\n",
      "\n"
     ]
    }
   ],
   "source": [
    "f = open(\"student.txt\",'r')\n",
    "print(f.readline())\n",
    "print(f.readline())"
   ]
  },
  {
   "cell_type": "code",
   "execution_count": 54,
   "id": "a8845f29",
   "metadata": {},
   "outputs": [
    {
     "name": "stdout",
     "output_type": "stream",
     "text": [
      "this is the best file handling session.\n",
      "\n",
      "we are the best.\n",
      "\n",
      "Ai Session\n"
     ]
    }
   ],
   "source": [
    "f = open(\"student.txt\",'r')\n",
    "\n",
    "li=f.readlines()\n",
    "for i in li:\n",
    "    print(i)"
   ]
  },
  {
   "cell_type": "code",
   "execution_count": 55,
   "id": "1be12a8b",
   "metadata": {},
   "outputs": [],
   "source": [
    "f.close()"
   ]
  },
  {
   "cell_type": "code",
   "execution_count": 46,
   "id": "9f44feb7",
   "metadata": {},
   "outputs": [],
   "source": [
    "#Task\n",
    "# 1-create new class\n",
    "# 2-create new object\n",
    "# 3-add object attributes into txt file\n",
    "# 4-modify class attributes : add new attribute\n",
    "# 5-read txt file\n",
    "# 6-apply changes\n",
    "# 7-save file"
   ]
  },
  {
   "cell_type": "code",
   "execution_count": 47,
   "id": "42c67a09",
   "metadata": {},
   "outputs": [],
   "source": []
  },
  {
   "cell_type": "code",
   "execution_count": null,
   "id": "e80f1214",
   "metadata": {},
   "outputs": [],
   "source": []
  }
 ],
 "metadata": {
  "kernelspec": {
   "display_name": "Python 3 (ipykernel)",
   "language": "python",
   "name": "python3"
  },
  "language_info": {
   "codemirror_mode": {
    "name": "ipython",
    "version": 3
   },
   "file_extension": ".py",
   "mimetype": "text/x-python",
   "name": "python",
   "nbconvert_exporter": "python",
   "pygments_lexer": "ipython3",
   "version": "3.9.13"
  }
 },
 "nbformat": 4,
 "nbformat_minor": 5
}
